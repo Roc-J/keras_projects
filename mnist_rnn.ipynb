{
 "cells": [
  {
   "cell_type": "code",
   "execution_count": 1,
   "metadata": {},
   "outputs": [],
   "source": [
    "import numpy as np\n",
    "np.random.seed(1337)"
   ]
  },
  {
   "cell_type": "code",
   "execution_count": 2,
   "metadata": {},
   "outputs": [
    {
     "name": "stderr",
     "output_type": "stream",
     "text": [
      "/usr/local/lib/python3.5/dist-packages/h5py/__init__.py:36: FutureWarning: Conversion of the second argument of issubdtype from `float` to `np.floating` is deprecated. In future, it will be treated as `np.float64 == np.dtype(float).type`.\n",
      "  from ._conv import register_converters as _register_converters\n",
      "Using TensorFlow backend.\n"
     ]
    }
   ],
   "source": [
    "from keras.datasets import mnist\n",
    "from keras.utils import np_utils\n",
    "from keras.models import Sequential\n",
    "from keras.layers import SimpleRNN, Activation, Dense\n",
    "from keras.optimizers import Adam"
   ]
  },
  {
   "cell_type": "code",
   "execution_count": 3,
   "metadata": {},
   "outputs": [],
   "source": [
    "# parameters\n",
    "TIME_STEPS = 28\n",
    "INPUT_SIZE = 28\n",
    "BATCH_SIZE = 50\n",
    "BATCH_INDEX = 0\n",
    "OUTPUT_SIZE = 10\n",
    "CELL_SIZE = 50\n",
    "LR = 0.001"
   ]
  },
  {
   "cell_type": "code",
   "execution_count": 4,
   "metadata": {},
   "outputs": [],
   "source": [
    "(X_train, y_train), (X_test, y_test) = mnist.load_data()"
   ]
  },
  {
   "cell_type": "code",
   "execution_count": 5,
   "metadata": {},
   "outputs": [],
   "source": [
    "# data-preprocessing\n",
    "X_train = X_train.reshape(-1, 28, 28)/255\n",
    "X_test = X_test.reshape(-1, 28, 28)/255\n",
    "y_train = np_utils.to_categorical(y_train, num_classes=10)\n",
    "y_test = np_utils.to_categorical(y_test, num_classes=10)"
   ]
  },
  {
   "cell_type": "code",
   "execution_count": 11,
   "metadata": {},
   "outputs": [
    {
     "data": {
      "text/plain": [
       "(60000, 28, 28)"
      ]
     },
     "execution_count": 11,
     "metadata": {},
     "output_type": "execute_result"
    }
   ],
   "source": [
    "X_train.shape"
   ]
  },
  {
   "cell_type": "code",
   "execution_count": 12,
   "metadata": {},
   "outputs": [
    {
     "data": {
      "text/plain": [
       "(10000, 28, 28)"
      ]
     },
     "execution_count": 12,
     "metadata": {},
     "output_type": "execute_result"
    }
   ],
   "source": [
    "X_test.shape"
   ]
  },
  {
   "cell_type": "code",
   "execution_count": 6,
   "metadata": {},
   "outputs": [],
   "source": [
    "# build the model\n",
    "model = Sequential()"
   ]
  },
  {
   "cell_type": "code",
   "execution_count": 7,
   "metadata": {},
   "outputs": [
    {
     "name": "stderr",
     "output_type": "stream",
     "text": [
      "/usr/local/lib/python3.5/dist-packages/ipykernel_launcher.py:4: UserWarning: Update your `SimpleRNN` call to the Keras 2 API: `SimpleRNN(units=50, batch_input_shape=(50, 28, 2...)`\n",
      "  after removing the cwd from sys.path.\n"
     ]
    }
   ],
   "source": [
    "# RNN cell\n",
    "model.add(SimpleRNN(\n",
    "    batch_input_shape=(BATCH_SIZE, TIME_STEPS, INPUT_SIZE),\n",
    "    output_dim=CELL_SIZE,\n",
    "))"
   ]
  },
  {
   "cell_type": "code",
   "execution_count": 8,
   "metadata": {},
   "outputs": [],
   "source": [
    "# output layer\n",
    "model.add(Dense(OUTPUT_SIZE))\n",
    "model.add(Activation('softmax'))"
   ]
  },
  {
   "cell_type": "code",
   "execution_count": 9,
   "metadata": {},
   "outputs": [],
   "source": [
    "# optimizer\n",
    "adam = Adam(LR)\n",
    "model.compile(optimizer=adam,\n",
    "             loss='categorical_crossentropy',\n",
    "             metrics=['accuracy'])\n"
   ]
  },
  {
   "cell_type": "code",
   "execution_count": 15,
   "metadata": {},
   "outputs": [
    {
     "name": "stdout",
     "output_type": "stream",
     "text": [
      "10000/10000 [==============================] - 1s 53us/step\n",
      "test cost:  2.3884285521507262 test accuracy:  0.03799999898299575\n",
      "10000/10000 [==============================] - 0s 46us/step\n",
      "test cost:  0.6461933552473783 test accuracy:  0.8024999864399434\n",
      "10000/10000 [==============================] - 0s 47us/step\n",
      "test cost:  0.4712551312893629 test accuracy:  0.8600999906659126\n",
      "10000/10000 [==============================] - 0s 46us/step\n",
      "test cost:  0.4042412508279085 test accuracy:  0.8810999920964241\n",
      "10000/10000 [==============================] - 0s 47us/step\n",
      "test cost:  0.3476746057160199 test accuracy:  0.8978999921679497\n",
      "10000/10000 [==============================] - 0s 48us/step\n",
      "test cost:  0.2842830091528594 test accuracy:  0.9183999985456467\n",
      "10000/10000 [==============================] - 0s 49us/step\n",
      "test cost:  0.29847885061055424 test accuracy:  0.9128999969363213\n",
      "10000/10000 [==============================] - 0s 47us/step\n",
      "test cost:  0.22204320628196 test accuracy:  0.935999995470047\n",
      "10000/10000 [==============================] - 0s 48us/step\n",
      "test cost:  0.2134001300157979 test accuracy:  0.9393999981880188\n"
     ]
    }
   ],
   "source": [
    "# training\n",
    "for step in range(4001):\n",
    "    X_batch = X_train[BATCH_INDEX:BATCH_SIZE+BATCH_INDEX, :, :]\n",
    "    Y_batch = y_train[BATCH_INDEX:BATCH_SIZE+BATCH_INDEX, :]\n",
    "    cost = model.train_on_batch(X_batch, Y_batch)\n",
    "    \n",
    "    BATCH_INDEX += BATCH_SIZE\n",
    "    BATCH_INDEX = 0 if BATCH_INDEX >=X_train.shape[0] else BATCH_INDEX\n",
    "    \n",
    "    if step % 500 ==0:\n",
    "        cost, accuracy = model.evaluate(X_test, y_test, batch_size=BATCH_SIZE, verbose=1)\n",
    "        print('test cost: ', cost, 'test accuracy: ', accuracy)"
   ]
  },
  {
   "cell_type": "code",
   "execution_count": null,
   "metadata": {},
   "outputs": [],
   "source": []
  }
 ],
 "metadata": {
  "kernelspec": {
   "display_name": "Python 3",
   "language": "python",
   "name": "python3"
  },
  "language_info": {
   "codemirror_mode": {
    "name": "ipython",
    "version": 3
   },
   "file_extension": ".py",
   "mimetype": "text/x-python",
   "name": "python",
   "nbconvert_exporter": "python",
   "pygments_lexer": "ipython3",
   "version": "3.5.2"
  }
 },
 "nbformat": 4,
 "nbformat_minor": 2
}
