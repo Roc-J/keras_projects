{
 "cells": [
  {
   "cell_type": "markdown",
   "metadata": {},
   "source": [
    "# Introduction\n",
    "时间：2018-01-24  \n",
    "数据集：MNIST  \n",
    "多层感知机的实现  \n",
    "\n",
    "\n",
    "## 加载keras模块"
   ]
  },
  {
   "cell_type": "code",
   "execution_count": 1,
   "metadata": {},
   "outputs": [],
   "source": [
    "from __future__ import print_function\n",
    "import numpy as np\n",
    "np.random.seed(1337)"
   ]
  },
  {
   "cell_type": "code",
   "execution_count": 2,
   "metadata": {},
   "outputs": [
    {
     "name": "stderr",
     "output_type": "stream",
     "text": [
      "/usr/local/lib/python3.5/dist-packages/h5py/__init__.py:36: FutureWarning: Conversion of the second argument of issubdtype from `float` to `np.floating` is deprecated. In future, it will be treated as `np.float64 == np.dtype(float).type`.\n",
      "  from ._conv import register_converters as _register_converters\n",
      "Using TensorFlow backend.\n"
     ]
    }
   ],
   "source": [
    "from keras.datasets import mnist\n",
    "from keras.models import Sequential\n",
    "from keras.layers.core import Dense, Dropout, Activation\n",
    "from keras.optimizers import SGD, Adam, RMSprop\n",
    "from keras.utils import np_utils"
   ]
  },
  {
   "cell_type": "markdown",
   "metadata": {},
   "source": [
    "## 绘制模型加载plot"
   ]
  },
  {
   "cell_type": "code",
   "execution_count": 3,
   "metadata": {},
   "outputs": [],
   "source": [
    "from keras.utils.vis_utils import plot_model"
   ]
  },
  {
   "cell_type": "markdown",
   "metadata": {},
   "source": [
    "## 变量初始化"
   ]
  },
  {
   "cell_type": "code",
   "execution_count": 4,
   "metadata": {},
   "outputs": [],
   "source": [
    "batch_size = 128\n",
    "nb_classes = 10\n",
    "nb_epoch = 20"
   ]
  },
  {
   "cell_type": "markdown",
   "metadata": {},
   "source": [
    "## 准备数据"
   ]
  },
  {
   "cell_type": "code",
   "execution_count": 5,
   "metadata": {},
   "outputs": [],
   "source": [
    "# the data, shuffled and split between train and test sets\n",
    "(X_train, y_train), (X_test, y_test) = mnist.load_data()\n",
    "\n",
    "X_train = X_train.reshape(60000, 784).astype('float32')\n",
    "X_test = X_test.reshape(10000, 784).astype('float32')\n",
    "X_train /=255\n",
    "X_test /=255"
   ]
  },
  {
   "cell_type": "code",
   "execution_count": 6,
   "metadata": {},
   "outputs": [
    {
     "data": {
      "text/plain": [
       "(60000, 784)"
      ]
     },
     "execution_count": 6,
     "metadata": {},
     "output_type": "execute_result"
    }
   ],
   "source": [
    "X_train.shape"
   ]
  },
  {
   "cell_type": "code",
   "execution_count": 7,
   "metadata": {},
   "outputs": [
    {
     "data": {
      "text/plain": [
       "(10000, 784)"
      ]
     },
     "execution_count": 7,
     "metadata": {},
     "output_type": "execute_result"
    }
   ],
   "source": [
    "X_test.shape"
   ]
  },
  {
   "cell_type": "code",
   "execution_count": 8,
   "metadata": {},
   "outputs": [],
   "source": [
    "# convert class vectors to binary class matrices\n",
    "Y_train = np_utils.to_categorical(y_train, nb_classes)\n",
    "Y_test = np_utils.to_categorical(y_test, nb_classes)"
   ]
  },
  {
   "cell_type": "markdown",
   "metadata": {},
   "source": [
    "## 建立模型\n",
    "\n",
    "## 使用Sequential()"
   ]
  },
  {
   "cell_type": "code",
   "execution_count": 9,
   "metadata": {},
   "outputs": [],
   "source": [
    "model = Sequential()\n",
    "model.add(Dense(512, input_shape=(784, )))\n",
    "model.add(Activation('relu'))\n",
    "model.add(Dropout(0.2))\n",
    "model.add(Dense(512))\n",
    "model.add(Activation('relu'))\n",
    "model.add(Dropout(0.2))\n",
    "model.add(Dense(10))\n",
    "model.add(Activation('softmax'))"
   ]
  },
  {
   "cell_type": "code",
   "execution_count": 10,
   "metadata": {},
   "outputs": [
    {
     "name": "stdout",
     "output_type": "stream",
     "text": [
      "_________________________________________________________________\n",
      "Layer (type)                 Output Shape              Param #   \n",
      "=================================================================\n",
      "dense_1 (Dense)              (None, 512)               401920    \n",
      "_________________________________________________________________\n",
      "activation_1 (Activation)    (None, 512)               0         \n",
      "_________________________________________________________________\n",
      "dropout_1 (Dropout)          (None, 512)               0         \n",
      "_________________________________________________________________\n",
      "dense_2 (Dense)              (None, 512)               262656    \n",
      "_________________________________________________________________\n",
      "activation_2 (Activation)    (None, 512)               0         \n",
      "_________________________________________________________________\n",
      "dropout_2 (Dropout)          (None, 512)               0         \n",
      "_________________________________________________________________\n",
      "dense_3 (Dense)              (None, 10)                5130      \n",
      "_________________________________________________________________\n",
      "activation_3 (Activation)    (None, 10)                0         \n",
      "=================================================================\n",
      "Total params: 669,706\n",
      "Trainable params: 669,706\n",
      "Non-trainable params: 0\n",
      "_________________________________________________________________\n"
     ]
    }
   ],
   "source": [
    "model.summary()"
   ]
  },
  {
   "cell_type": "markdown",
   "metadata": {},
   "source": [
    "## 绘制模型结构图，并保存成图片"
   ]
  },
  {
   "cell_type": "code",
   "execution_count": 11,
   "metadata": {},
   "outputs": [],
   "source": [
    "plot_model(model, to_file='model.png')"
   ]
  },
  {
   "cell_type": "markdown",
   "metadata": {},
   "source": [
    "## 训练与评估\n",
    "\n",
    "## 编译模型"
   ]
  },
  {
   "cell_type": "code",
   "execution_count": 12,
   "metadata": {},
   "outputs": [],
   "source": [
    "model.compile(loss='categorical_crossentropy',\n",
    "             optimizer=RMSprop(),\n",
    "             metrics=['accuracy'])"
   ]
  },
  {
   "cell_type": "markdown",
   "metadata": {},
   "source": [
    "## 迭代训练"
   ]
  },
  {
   "cell_type": "code",
   "execution_count": 13,
   "metadata": {},
   "outputs": [
    {
     "name": "stderr",
     "output_type": "stream",
     "text": [
      "/usr/local/lib/python3.5/dist-packages/keras/models.py:944: UserWarning: The `nb_epoch` argument in `fit` has been renamed `epochs`.\n",
      "  warnings.warn('The `nb_epoch` argument in `fit` '\n"
     ]
    },
    {
     "name": "stdout",
     "output_type": "stream",
     "text": [
      "Train on 60000 samples, validate on 10000 samples\n",
      "Epoch 1/20\n",
      "60000/60000 [==============================] - 12s 199us/step - loss: 0.2422 - acc: 0.9257 - val_loss: 0.1097 - val_acc: 0.9668\n",
      "Epoch 2/20\n",
      "60000/60000 [==============================] - 2s 37us/step - loss: 0.1017 - acc: 0.9692 - val_loss: 0.0858 - val_acc: 0.9738\n",
      "Epoch 3/20\n",
      "60000/60000 [==============================] - 2s 36us/step - loss: 0.0761 - acc: 0.9770 - val_loss: 0.0789 - val_acc: 0.9759\n",
      "Epoch 4/20\n",
      "60000/60000 [==============================] - 2s 36us/step - loss: 0.0617 - acc: 0.9815 - val_loss: 0.0917 - val_acc: 0.9760\n",
      "Epoch 5/20\n",
      "60000/60000 [==============================] - 2s 37us/step - loss: 0.0500 - acc: 0.9854 - val_loss: 0.0846 - val_acc: 0.9780\n",
      "Epoch 6/20\n",
      "60000/60000 [==============================] - 2s 38us/step - loss: 0.0451 - acc: 0.9862 - val_loss: 0.0808 - val_acc: 0.9808\n",
      "Epoch 7/20\n",
      "60000/60000 [==============================] - 2s 37us/step - loss: 0.0388 - acc: 0.9884 - val_loss: 0.0847 - val_acc: 0.9803\n",
      "Epoch 8/20\n",
      "60000/60000 [==============================] - 2s 38us/step - loss: 0.0343 - acc: 0.9902 - val_loss: 0.0946 - val_acc: 0.9813\n",
      "Epoch 9/20\n",
      "60000/60000 [==============================] - 2s 37us/step - loss: 0.0327 - acc: 0.9903 - val_loss: 0.0882 - val_acc: 0.9799\n",
      "Epoch 10/20\n",
      "60000/60000 [==============================] - 2s 39us/step - loss: 0.0276 - acc: 0.9921 - val_loss: 0.0934 - val_acc: 0.9820\n",
      "Epoch 11/20\n",
      "60000/60000 [==============================] - 2s 36us/step - loss: 0.0278 - acc: 0.9924 - val_loss: 0.0845 - val_acc: 0.9831\n",
      "Epoch 12/20\n",
      "60000/60000 [==============================] - 2s 36us/step - loss: 0.0250 - acc: 0.9926 - val_loss: 0.0936 - val_acc: 0.9837\n",
      "Epoch 13/20\n",
      "60000/60000 [==============================] - 2s 37us/step - loss: 0.0224 - acc: 0.9938 - val_loss: 0.1061 - val_acc: 0.9803\n",
      "Epoch 14/20\n",
      "60000/60000 [==============================] - 2s 40us/step - loss: 0.0235 - acc: 0.9936 - val_loss: 0.0877 - val_acc: 0.9849\n",
      "Epoch 15/20\n",
      "60000/60000 [==============================] - 2s 38us/step - loss: 0.0198 - acc: 0.9945 - val_loss: 0.0982 - val_acc: 0.9846\n",
      "Epoch 16/20\n",
      "60000/60000 [==============================] - 2s 37us/step - loss: 0.0206 - acc: 0.9941 - val_loss: 0.1079 - val_acc: 0.9819\n",
      "Epoch 17/20\n",
      "60000/60000 [==============================] - 2s 37us/step - loss: 0.0202 - acc: 0.9943 - val_loss: 0.1308 - val_acc: 0.9794\n",
      "Epoch 18/20\n",
      "60000/60000 [==============================] - 2s 36us/step - loss: 0.0195 - acc: 0.9952 - val_loss: 0.1092 - val_acc: 0.9832\n",
      "Epoch 19/20\n",
      "60000/60000 [==============================] - 2s 36us/step - loss: 0.0174 - acc: 0.9955 - val_loss: 0.1158 - val_acc: 0.9830\n",
      "Epoch 20/20\n",
      "60000/60000 [==============================] - 2s 36us/step - loss: 0.0181 - acc: 0.9954 - val_loss: 0.1045 - val_acc: 0.9838\n"
     ]
    }
   ],
   "source": [
    "history = model.fit(X_train, Y_train,\n",
    "                   batch_size=batch_size, nb_epoch=nb_epoch,\n",
    "                   verbose=1, validation_data=(X_test, Y_test))"
   ]
  },
  {
   "cell_type": "markdown",
   "metadata": {},
   "source": [
    "## 模型评估"
   ]
  },
  {
   "cell_type": "code",
   "execution_count": 14,
   "metadata": {},
   "outputs": [
    {
     "name": "stdout",
     "output_type": "stream",
     "text": [
      "Test score:  0.10454513578302285\n",
      "Test accuracy:  0.9838\n"
     ]
    }
   ],
   "source": [
    "score = model.evaluate(X_test, Y_test, verbose=0)\n",
    "print('Test score: ', score[0])\n",
    "print('Test accuracy: ', score[1])"
   ]
  }
 ],
 "metadata": {
  "kernelspec": {
   "display_name": "Python 3",
   "language": "python",
   "name": "python3"
  },
  "language_info": {
   "codemirror_mode": {
    "name": "ipython",
    "version": 3
   },
   "file_extension": ".py",
   "mimetype": "text/x-python",
   "name": "python",
   "nbconvert_exporter": "python",
   "pygments_lexer": "ipython3",
   "version": "3.5.2"
  }
 },
 "nbformat": 4,
 "nbformat_minor": 2
}
