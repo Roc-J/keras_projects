{
 "cells": [
  {
   "cell_type": "markdown",
   "metadata": {},
   "source": [
    "## CIFAR-10数据集介绍\n",
    "\n",
    "CIFAR-10数据集含有6万个32*32的彩色图像，共分为10种类型，由 Alex Krizhevsky, Vinod Nair和 Geoffrey Hinton收集而来。包含50000张训练图片，10000张测试图片\n",
    "\n",
    "[CIFAR_10数据集](http://www.cs.toronto.edu/~kriz/cifar.html)\n",
    "\n",
    "数据集的数据存在一个10000 * 3072 的 numpy数组中，单位是uint8s，3072是存储了一个32 * 32的彩色图像。（3072=1024* 3）。前1024位是r值，中间1024是g值，后面1024是b值。\n",
    "\n",
    "![](http://img.blog.csdn.net/20150312153659274?watermark/2/text/aHR0cDovL2Jsb2cuY3Nkbi5uZXQvbHlubmFuZHdlaQ==/font/5a6L5L2T/fontsize/400/fill/I0JBQkFCMA==/dissolve/70/gravity/Center)"
   ]
  },
  {
   "cell_type": "markdown",
   "metadata": {},
   "source": [
    "## 程序说明\n",
    "时间: 2018-01-25  \n",
    "说明: 这是一个使用卷积网络在CIFAR-10数据集上做分类的程序，其中使用了数据增强。  \n",
    "数据集: CIFAR-10\n",
    "\n",
    "## 加载keras模块"
   ]
  },
  {
   "cell_type": "code",
   "execution_count": 1,
   "metadata": {},
   "outputs": [
    {
     "name": "stderr",
     "output_type": "stream",
     "text": [
      "/usr/local/lib/python3.5/dist-packages/h5py/__init__.py:36: FutureWarning: Conversion of the second argument of issubdtype from `float` to `np.floating` is deprecated. In future, it will be treated as `np.float64 == np.dtype(float).type`.\n",
      "  from ._conv import register_converters as _register_converters\n",
      "Using TensorFlow backend.\n"
     ]
    }
   ],
   "source": [
    "from __future__ import print_function\n",
    "from keras.datasets import cifar10\n",
    "from keras.preprocessing.image import ImageDataGenerator\n",
    "from keras.models import Sequential\n",
    "from keras.layers import Dense, Dropout, Activation, Flatten\n",
    "from keras.layers import Convolution2D, MaxPooling2D\n",
    "from keras.optimizers import SGD\n",
    "from keras.utils import np_utils"
   ]
  },
  {
   "cell_type": "markdown",
   "metadata": {},
   "source": [
    "## 变量初始化"
   ]
  },
  {
   "cell_type": "code",
   "execution_count": 2,
   "metadata": {},
   "outputs": [],
   "source": [
    "batch_size = 32\n",
    "nb_classes = 10\n",
    "epochs = 20\n",
    "data_augmentation = True\n",
    "\n",
    "# input image dimensions\n",
    "img_rows, img_cols = 32, 32\n",
    "# the CIFAR-10 IMAGE are RGB\n",
    "img_channels = 3"
   ]
  },
  {
   "cell_type": "markdown",
   "metadata": {},
   "source": [
    "## 准备数据"
   ]
  },
  {
   "cell_type": "code",
   "execution_count": 3,
   "metadata": {},
   "outputs": [
    {
     "name": "stdout",
     "output_type": "stream",
     "text": [
      "Downloading data from https://www.cs.toronto.edu/~kriz/cifar-10-python.tar.gz\n",
      "170500096/170498071 [==============================] - 343s 2us/step\n"
     ]
    }
   ],
   "source": [
    "# the data, shuffled and split between train and test sets\n",
    "(X_train, y_train), (X_test, y_test) = cifar10.load_data()"
   ]
  },
  {
   "cell_type": "markdown",
   "metadata": {},
   "source": [
    "## 数据压缩0-1"
   ]
  },
  {
   "cell_type": "code",
   "execution_count": 13,
   "metadata": {},
   "outputs": [],
   "source": [
    "X_train = X_train.astype('float32')\n",
    "X_test = X_test.astype('float32')\n",
    "X_train /= 255\n",
    "X_test /= 255"
   ]
  },
  {
   "cell_type": "code",
   "execution_count": 4,
   "metadata": {},
   "outputs": [
    {
     "data": {
      "text/plain": [
       "(50000, 32, 32, 3)"
      ]
     },
     "execution_count": 4,
     "metadata": {},
     "output_type": "execute_result"
    }
   ],
   "source": [
    "X_train.shape"
   ]
  },
  {
   "cell_type": "markdown",
   "metadata": {},
   "source": [
    "## 转换类标号"
   ]
  },
  {
   "cell_type": "code",
   "execution_count": 5,
   "metadata": {},
   "outputs": [],
   "source": [
    "# convert class vectors to binary class matrices\n",
    "Y_train = np_utils.to_categorical(y_train, nb_classes)\n",
    "Y_test = np_utils.to_categorical(y_test, nb_classes)"
   ]
  },
  {
   "cell_type": "markdown",
   "metadata": {},
   "source": [
    "## 建立模型 \n",
    "\n",
    "## 使用Sequential()"
   ]
  },
  {
   "cell_type": "code",
   "execution_count": 10,
   "metadata": {},
   "outputs": [
    {
     "name": "stderr",
     "output_type": "stream",
     "text": [
      "/usr/local/lib/python3.5/dist-packages/ipykernel_launcher.py:4: UserWarning: Update your `Conv2D` call to the Keras 2 API: `Conv2D(32, (3, 3))`\n",
      "  after removing the cwd from sys.path.\n",
      "/usr/local/lib/python3.5/dist-packages/ipykernel_launcher.py:11: UserWarning: Update your `Conv2D` call to the Keras 2 API: `Conv2D(64, (3, 3))`\n",
      "  # This is added back by InteractiveShellApp.init_path()\n"
     ]
    }
   ],
   "source": [
    "model = Sequential()\n",
    "model.add(Convolution2D(32, kernel_size=(3, 3), strides=(1, 1), padding='same',input_shape=X_train.shape[1:]))\n",
    "model.add(Activation('relu'))\n",
    "model.add(Convolution2D(32, 3, 3))\n",
    "model.add(Activation('relu'))\n",
    "model.add(MaxPooling2D(pool_size=(2,2)))\n",
    "model.add(Dropout(0.2))\n",
    "\n",
    "model.add(Convolution2D(64, kernel_size=(3, 3), strides=(1, 1), padding='same'))\n",
    "model.add(Activation('relu'))\n",
    "model.add(Convolution2D(64, 3, 3))\n",
    "model.add(Activation('relu'))\n",
    "model.add(MaxPooling2D(pool_size=(2,2)))\n",
    "model.add(Dropout(0.25))\n",
    "\n",
    "model.add(Flatten())\n",
    "model.add(Dense(512))\n",
    "model.add(Activation('relu'))\n",
    "model.add(Dropout(0.5))\n",
    "model.add(Dense(nb_classes))\n",
    "model.add(Activation('softmax'))"
   ]
  },
  {
   "cell_type": "markdown",
   "metadata": {},
   "source": [
    "## 打印模型"
   ]
  },
  {
   "cell_type": "code",
   "execution_count": 11,
   "metadata": {},
   "outputs": [
    {
     "name": "stdout",
     "output_type": "stream",
     "text": [
      "_________________________________________________________________\n",
      "Layer (type)                 Output Shape              Param #   \n",
      "=================================================================\n",
      "conv2d_7 (Conv2D)            (None, 32, 32, 32)        896       \n",
      "_________________________________________________________________\n",
      "activation_7 (Activation)    (None, 32, 32, 32)        0         \n",
      "_________________________________________________________________\n",
      "conv2d_8 (Conv2D)            (None, 30, 30, 32)        9248      \n",
      "_________________________________________________________________\n",
      "activation_8 (Activation)    (None, 30, 30, 32)        0         \n",
      "_________________________________________________________________\n",
      "max_pooling2d_4 (MaxPooling2 (None, 15, 15, 32)        0         \n",
      "_________________________________________________________________\n",
      "dropout_4 (Dropout)          (None, 15, 15, 32)        0         \n",
      "_________________________________________________________________\n",
      "conv2d_9 (Conv2D)            (None, 15, 15, 64)        18496     \n",
      "_________________________________________________________________\n",
      "activation_9 (Activation)    (None, 15, 15, 64)        0         \n",
      "_________________________________________________________________\n",
      "conv2d_10 (Conv2D)           (None, 13, 13, 64)        36928     \n",
      "_________________________________________________________________\n",
      "activation_10 (Activation)   (None, 13, 13, 64)        0         \n",
      "_________________________________________________________________\n",
      "max_pooling2d_5 (MaxPooling2 (None, 6, 6, 64)          0         \n",
      "_________________________________________________________________\n",
      "dropout_5 (Dropout)          (None, 6, 6, 64)          0         \n",
      "_________________________________________________________________\n",
      "flatten_1 (Flatten)          (None, 2304)              0         \n",
      "_________________________________________________________________\n",
      "dense_1 (Dense)              (None, 512)               1180160   \n",
      "_________________________________________________________________\n",
      "activation_11 (Activation)   (None, 512)               0         \n",
      "_________________________________________________________________\n",
      "dropout_6 (Dropout)          (None, 512)               0         \n",
      "_________________________________________________________________\n",
      "dense_2 (Dense)              (None, 10)                5130      \n",
      "_________________________________________________________________\n",
      "activation_12 (Activation)   (None, 10)                0         \n",
      "=================================================================\n",
      "Total params: 1,250,858\n",
      "Trainable params: 1,250,858\n",
      "Non-trainable params: 0\n",
      "_________________________________________________________________\n"
     ]
    }
   ],
   "source": [
    "model.summary()"
   ]
  },
  {
   "cell_type": "markdown",
   "metadata": {},
   "source": [
    "## 训练和评估\n",
    "\n",
    "## 编译模型"
   ]
  },
  {
   "cell_type": "code",
   "execution_count": 12,
   "metadata": {},
   "outputs": [],
   "source": [
    "# let's train the model using SGD + momentum\n",
    "sgd = SGD(lr=0.01, decay=1e-6, momentum=0.9, nesterov=True)\n",
    "model.compile(loss='categorical_crossentropy',\n",
    "             optimizer=sgd,\n",
    "             metrics=['accuracy'])"
   ]
  },
  {
   "cell_type": "markdown",
   "metadata": {},
   "source": [
    "## 数据增强\n",
    "\n",
    "数据增强使用ImageDataGenetator 这个函数"
   ]
  },
  {
   "cell_type": "code",
   "execution_count": 14,
   "metadata": {},
   "outputs": [
    {
     "name": "stdout",
     "output_type": "stream",
     "text": [
      "Using real-time data augmentation\n"
     ]
    },
    {
     "name": "stderr",
     "output_type": "stream",
     "text": [
      "/usr/local/lib/python3.5/dist-packages/ipykernel_launcher.py:30: UserWarning: Update your `fit_generator` call to the Keras 2 API: `fit_generator(<keras.pre..., epochs=20, validation_data=(array([[[..., steps_per_epoch=1562)`\n"
     ]
    },
    {
     "name": "stdout",
     "output_type": "stream",
     "text": [
      "Epoch 1/20\n",
      "1562/1562 [==============================] - 29s 19ms/step - loss: 1.7535 - acc: 0.3530 - val_loss: 1.2996 - val_acc: 0.5347\n",
      "Epoch 2/20\n",
      "1562/1562 [==============================] - 28s 18ms/step - loss: 1.3658 - acc: 0.5056 - val_loss: 1.1397 - val_acc: 0.5983\n",
      "Epoch 3/20\n",
      "1562/1562 [==============================] - 27s 18ms/step - loss: 1.2289 - acc: 0.5576 - val_loss: 1.0038 - val_acc: 0.6400\n",
      "Epoch 4/20\n",
      "1562/1562 [==============================] - 29s 18ms/step - loss: 1.1182 - acc: 0.6024 - val_loss: 0.9308 - val_acc: 0.6664\n",
      "Epoch 5/20\n",
      "1562/1562 [==============================] - 28s 18ms/step - loss: 1.0445 - acc: 0.6310 - val_loss: 0.8952 - val_acc: 0.6879\n",
      "Epoch 6/20\n",
      "1562/1562 [==============================] - 28s 18ms/step - loss: 0.9948 - acc: 0.6483 - val_loss: 0.7963 - val_acc: 0.7246\n",
      "Epoch 7/20\n",
      "1562/1562 [==============================] - 27s 17ms/step - loss: 0.9603 - acc: 0.6628 - val_loss: 0.8097 - val_acc: 0.7174\n",
      "Epoch 8/20\n",
      "1562/1562 [==============================] - 27s 17ms/step - loss: 0.9289 - acc: 0.6740 - val_loss: 0.7434 - val_acc: 0.7397\n",
      "Epoch 9/20\n",
      "1562/1562 [==============================] - 27s 17ms/step - loss: 0.9096 - acc: 0.6832 - val_loss: 0.7636 - val_acc: 0.7321\n",
      "Epoch 10/20\n",
      "1562/1562 [==============================] - 27s 18ms/step - loss: 0.8944 - acc: 0.6874 - val_loss: 0.7406 - val_acc: 0.7502\n",
      "Epoch 11/20\n",
      "1562/1562 [==============================] - 27s 18ms/step - loss: 0.8804 - acc: 0.6925 - val_loss: 0.6932 - val_acc: 0.7545\n",
      "Epoch 12/20\n",
      "1562/1562 [==============================] - 27s 17ms/step - loss: 0.8638 - acc: 0.6987 - val_loss: 0.7201 - val_acc: 0.7521\n",
      "Epoch 13/20\n",
      "1562/1562 [==============================] - 27s 17ms/step - loss: 0.8544 - acc: 0.7028 - val_loss: 0.7085 - val_acc: 0.7576\n",
      "Epoch 14/20\n",
      "1562/1562 [==============================] - 27s 17ms/step - loss: 0.8432 - acc: 0.7064 - val_loss: 0.7206 - val_acc: 0.7469\n",
      "Epoch 15/20\n",
      "1562/1562 [==============================] - 27s 18ms/step - loss: 0.8344 - acc: 0.7075 - val_loss: 0.6866 - val_acc: 0.7631\n",
      "Epoch 16/20\n",
      "1562/1562 [==============================] - 27s 17ms/step - loss: 0.8218 - acc: 0.7163 - val_loss: 0.7051 - val_acc: 0.7636\n",
      "Epoch 17/20\n",
      "1562/1562 [==============================] - 27s 17ms/step - loss: 0.8228 - acc: 0.7142 - val_loss: 0.6635 - val_acc: 0.7765\n",
      "Epoch 18/20\n",
      "1562/1562 [==============================] - 27s 17ms/step - loss: 0.8230 - acc: 0.7165 - val_loss: 0.6985 - val_acc: 0.7641\n",
      "Epoch 19/20\n",
      "1562/1562 [==============================] - 27s 17ms/step - loss: 0.8183 - acc: 0.7163 - val_loss: 0.6780 - val_acc: 0.7770\n",
      "Epoch 20/20\n",
      "1562/1562 [==============================] - 27s 17ms/step - loss: 0.8088 - acc: 0.7218 - val_loss: 0.6680 - val_acc: 0.7736\n"
     ]
    }
   ],
   "source": [
    "if not data_augmentation:\n",
    "    print('Not using data augmentation.')\n",
    "    model.fit(X_train, Y_train,\n",
    "             batch_size=batch_size, \n",
    "             epochs=epochs,\n",
    "             validation_data=(X_test, Y_test),\n",
    "             shuffle=True)\n",
    "else:\n",
    "    print(\"Using real-time data augmentation\")\n",
    "    \n",
    "    # 这将做预处理和实时数据增加\n",
    "    datagen = ImageDataGenerator(\n",
    "        featurewise_center=False, # 在数据集上将输入平均值设置为0\n",
    "        samplewise_center=False, # 将每个样本均值设置为0\n",
    "        featurewise_std_normalization=False, # 将输入除以数据集的std\n",
    "        samplewise_std_normalization=False, # 将输入除以std\n",
    "        zca_whitening=False, # 应用ZCA白化\n",
    "        rotation_range=0,\n",
    "        width_shift_range=0.1,\n",
    "        height_shift_range=0.1,\n",
    "        horizontal_flip=True,\n",
    "        vertical_flip=False\n",
    "    )\n",
    "    \n",
    "    datagen.fit(X_train)\n",
    "    model.fit_generator(datagen.flow(X_train, Y_train,\n",
    "                                    batch_size=batch_size),\n",
    "                       samples_per_epoch=X_train.shape[0],\n",
    "                       epochs=epochs,\n",
    "                       validation_data=(X_test, Y_test))"
   ]
  }
 ],
 "metadata": {
  "kernelspec": {
   "display_name": "Python 3",
   "language": "python",
   "name": "python3"
  },
  "language_info": {
   "codemirror_mode": {
    "name": "ipython",
    "version": 3
   },
   "file_extension": ".py",
   "mimetype": "text/x-python",
   "name": "python",
   "nbconvert_exporter": "python",
   "pygments_lexer": "ipython3",
   "version": "3.5.2"
  }
 },
 "nbformat": 4,
 "nbformat_minor": 2
}
