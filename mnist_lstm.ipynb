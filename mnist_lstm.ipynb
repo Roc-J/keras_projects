{
 "cells": [
  {
   "cell_type": "markdown",
   "metadata": {},
   "source": [
    "## 程序说明\n",
    "\n",
    "时间:2018-01-26  \n",
    "说明：该程序是一个包含LSTM的神经网络  \n",
    "数据集:MNIST\n",
    "\n",
    "## 加载keras模块"
   ]
  },
  {
   "cell_type": "code",
   "execution_count": 24,
   "metadata": {},
   "outputs": [],
   "source": [
    "import numpy as np\n",
    "np.random.seed(2018)\n",
    "from __future__ import print_function\n",
    "from keras.datasets import mnist\n",
    "from keras.utils import np_utils\n",
    "from keras.models import Sequential\n",
    "from keras.layers import LSTM, Activation, Dense\n",
    "from keras.optimizers import Adam"
   ]
  },
  {
   "cell_type": "markdown",
   "metadata": {},
   "source": [
    "## 绘制"
   ]
  },
  {
   "cell_type": "code",
   "execution_count": 25,
   "metadata": {},
   "outputs": [],
   "source": [
    "from keras.utils.vis_utils import plot_model"
   ]
  },
  {
   "cell_type": "markdown",
   "metadata": {},
   "source": [
    "## 变量初始化"
   ]
  },
  {
   "cell_type": "code",
   "execution_count": 26,
   "metadata": {},
   "outputs": [],
   "source": [
    "# paremeters\n",
    "learning_rate = 0.001\n",
    "epochs = 10\n",
    "batch_size = 128\n",
    "n_input = 28\n",
    "n_step = 28\n",
    "n_hidden = 128\n",
    "n_classes = 10"
   ]
  },
  {
   "cell_type": "markdown",
   "metadata": {},
   "source": [
    "## 准备数据"
   ]
  },
  {
   "cell_type": "code",
   "execution_count": 27,
   "metadata": {},
   "outputs": [],
   "source": [
    "# load MNIST dataset\n",
    "(X_train, y_train), (X_test, y_test) = mnist.load_data()"
   ]
  },
  {
   "cell_type": "code",
   "execution_count": 28,
   "metadata": {},
   "outputs": [
    {
     "data": {
      "text/plain": [
       "(60000, 28, 28)"
      ]
     },
     "execution_count": 28,
     "metadata": {},
     "output_type": "execute_result"
    }
   ],
   "source": [
    "X_train.shape"
   ]
  },
  {
   "cell_type": "code",
   "execution_count": 29,
   "metadata": {},
   "outputs": [],
   "source": [
    "# x标准化到0-1， y使用ont-hot输入nxm的矩阵，每行m维切成n个输入\n",
    "X_train = X_train.reshape(-1, n_step, n_input)/255\n",
    "X_test = X_test.reshape(-1, n_step, n_input)/255\n",
    "\n",
    "y_train = np_utils.to_categorical(y_train, num_classes=10)\n",
    "y_test = np_utils.to_categorical(y_test, num_classes=10)"
   ]
  },
  {
   "cell_type": "markdown",
   "metadata": {},
   "source": [
    "## 建立模型\n",
    "\n",
    "## 使用Sequential()"
   ]
  },
  {
   "cell_type": "code",
   "execution_count": 30,
   "metadata": {},
   "outputs": [],
   "source": [
    "# build LSTM network\n",
    "model = Sequential()\n",
    "model.add(LSTM(n_hidden, batch_input_shape=(None, n_step, n_input),unroll=True))\n",
    "\n",
    "model.add(Dense(n_classes))\n",
    "model.add(Activation('softmax'))"
   ]
  },
  {
   "cell_type": "markdown",
   "metadata": {},
   "source": [
    "## 显示模型"
   ]
  },
  {
   "cell_type": "code",
   "execution_count": 31,
   "metadata": {},
   "outputs": [
    {
     "name": "stdout",
     "output_type": "stream",
     "text": [
      "_________________________________________________________________\n",
      "Layer (type)                 Output Shape              Param #   \n",
      "=================================================================\n",
      "lstm_6 (LSTM)                (None, 128)               80384     \n",
      "_________________________________________________________________\n",
      "dense_5 (Dense)              (None, 10)                1290      \n",
      "_________________________________________________________________\n",
      "activation_4 (Activation)    (None, 10)                0         \n",
      "=================================================================\n",
      "Total params: 81,674\n",
      "Trainable params: 81,674\n",
      "Non-trainable params: 0\n",
      "_________________________________________________________________\n"
     ]
    }
   ],
   "source": [
    "model.summary()"
   ]
  },
  {
   "cell_type": "markdown",
   "metadata": {},
   "source": [
    "## 编译模型"
   ]
  },
  {
   "cell_type": "code",
   "execution_count": 32,
   "metadata": {},
   "outputs": [],
   "source": [
    "adam = Adam(lr=learning_rate)\n",
    "model.compile(optimizer=adam, loss='categorical_crossentropy',metrics=['accuracy'])"
   ]
  },
  {
   "cell_type": "code",
   "execution_count": 36,
   "metadata": {},
   "outputs": [],
   "source": [
    "plot_model(model, to_file='lstm.png')"
   ]
  },
  {
   "cell_type": "markdown",
   "metadata": {},
   "source": [
    "## 训练模型"
   ]
  },
  {
   "cell_type": "code",
   "execution_count": 33,
   "metadata": {},
   "outputs": [
    {
     "name": "stdout",
     "output_type": "stream",
     "text": [
      "Train on 60000 samples, validate on 10000 samples\n",
      "Epoch 1/10\n",
      "60000/60000 [==============================] - 19s 315us/step - loss: 0.5267 - acc: 0.8266 - val_loss: 0.1694 - val_acc: 0.9460\n",
      "Epoch 2/10\n",
      "60000/60000 [==============================] - 17s 285us/step - loss: 0.1459 - acc: 0.9562 - val_loss: 0.1227 - val_acc: 0.9613\n",
      "Epoch 3/10\n",
      "60000/60000 [==============================] - 17s 285us/step - loss: 0.0986 - acc: 0.9703 - val_loss: 0.0877 - val_acc: 0.9738\n",
      "Epoch 4/10\n",
      "60000/60000 [==============================] - 17s 278us/step - loss: 0.0764 - acc: 0.9769 - val_loss: 0.0691 - val_acc: 0.9793\n",
      "Epoch 5/10\n",
      "60000/60000 [==============================] - 17s 278us/step - loss: 0.0623 - acc: 0.9809 - val_loss: 0.0708 - val_acc: 0.9787\n",
      "Epoch 6/10\n",
      "60000/60000 [==============================] - 17s 277us/step - loss: 0.0516 - acc: 0.9843 - val_loss: 0.0587 - val_acc: 0.9822\n",
      "Epoch 7/10\n",
      "60000/60000 [==============================] - 17s 279us/step - loss: 0.0430 - acc: 0.9867 - val_loss: 0.0547 - val_acc: 0.9835\n",
      "Epoch 8/10\n",
      "60000/60000 [==============================] - 17s 280us/step - loss: 0.0383 - acc: 0.9881 - val_loss: 0.0554 - val_acc: 0.9831\n",
      "Epoch 9/10\n",
      "60000/60000 [==============================] - 17s 278us/step - loss: 0.0341 - acc: 0.9893 - val_loss: 0.0524 - val_acc: 0.9846\n",
      "Epoch 10/10\n",
      "60000/60000 [==============================] - 17s 280us/step - loss: 0.0296 - acc: 0.9907 - val_loss: 0.0510 - val_acc: 0.9842\n"
     ]
    },
    {
     "data": {
      "text/plain": [
       "<keras.callbacks.History at 0x7f09a1ae8be0>"
      ]
     },
     "execution_count": 33,
     "metadata": {},
     "output_type": "execute_result"
    }
   ],
   "source": [
    "model.fit(X_train, y_train,\n",
    "         batch_size=batch_size,\n",
    "         epochs=epochs,\n",
    "         verbose=1,\n",
    "         validation_data=(X_test, y_test))"
   ]
  },
  {
   "cell_type": "code",
   "execution_count": 21,
   "metadata": {},
   "outputs": [
    {
     "name": "stdout",
     "output_type": "stream",
     "text": [
      "LSTM test score: 2.3011061756134032\n",
      "LSTM test accuracy: 0.1135\n"
     ]
    }
   ],
   "source": [
    "scores = model.evaluate(X_test, y_test, verbose=0)\n",
    "print('LSTM test score:', scores[0]) #loss\n",
    "print('LSTM test accuracy:', scores[1])"
   ]
  },
  {
   "cell_type": "code",
   "execution_count": null,
   "metadata": {},
   "outputs": [],
   "source": []
  },
  {
   "cell_type": "code",
   "execution_count": 23,
   "metadata": {},
   "outputs": [
    {
     "name": "stdout",
     "output_type": "stream",
     "text": [
      "_________________________________________________________________\n",
      "Layer (type)                 Output Shape              Param #   \n",
      "=================================================================\n",
      "lstm_5 (LSTM)                (None, 128)               80384     \n",
      "_________________________________________________________________\n",
      "dense_4 (Dense)              (None, 10)                1290      \n",
      "_________________________________________________________________\n",
      "activation_3 (Activation)    (None, 10)                0         \n",
      "=================================================================\n",
      "Total params: 81,674\n",
      "Trainable params: 81,674\n",
      "Non-trainable params: 0\n",
      "_________________________________________________________________\n",
      "Train on 60000 samples, validate on 10000 samples\n",
      "Epoch 1/10\n",
      "60000/60000 [==============================] - 19s 308us/step - loss: 0.5301 - acc: 0.8280 - val_loss: 0.1549 - val_acc: 0.9519\n",
      "Epoch 2/10\n",
      "60000/60000 [==============================] - 17s 276us/step - loss: 0.1471 - acc: 0.9547 - val_loss: 0.1457 - val_acc: 0.9544\n",
      "Epoch 3/10\n",
      "60000/60000 [==============================] - 17s 277us/step - loss: 0.1018 - acc: 0.9689 - val_loss: 0.0918 - val_acc: 0.9706\n",
      "Epoch 4/10\n",
      "60000/60000 [==============================] - 17s 278us/step - loss: 0.0764 - acc: 0.9769 - val_loss: 0.0821 - val_acc: 0.9751\n",
      "Epoch 5/10\n",
      "60000/60000 [==============================] - 17s 277us/step - loss: 0.0604 - acc: 0.9821 - val_loss: 0.0656 - val_acc: 0.9788\n",
      "Epoch 6/10\n",
      "60000/60000 [==============================] - 17s 277us/step - loss: 0.0497 - acc: 0.9851 - val_loss: 0.0622 - val_acc: 0.9812\n",
      "Epoch 7/10\n",
      "60000/60000 [==============================] - 17s 278us/step - loss: 0.0432 - acc: 0.9862 - val_loss: 0.0512 - val_acc: 0.9827\n",
      "Epoch 8/10\n",
      "60000/60000 [==============================] - 17s 277us/step - loss: 0.0359 - acc: 0.9885 - val_loss: 0.0548 - val_acc: 0.9829\n",
      "Epoch 9/10\n",
      "60000/60000 [==============================] - 17s 278us/step - loss: 0.0349 - acc: 0.9888 - val_loss: 0.0468 - val_acc: 0.9843\n",
      "Epoch 10/10\n",
      "60000/60000 [==============================] - 17s 278us/step - loss: 0.0286 - acc: 0.9916 - val_loss: 0.0497 - val_acc: 0.9861\n",
      "LSTM test score: 0.04966811052584089\n",
      "LSTM test accuracy: 0.9861\n"
     ]
    }
   ],
   "source": [
    "import numpy as np\n",
    "np.random.seed(2017)  #为了复现\n",
    "from __future__ import print_function\n",
    "from keras.datasets import mnist\n",
    "from keras.utils import np_utils\n",
    "from keras.models import Sequential\n",
    "from keras.layers import LSTM, Activation, Dense\n",
    "from keras.optimizers import Adam\n",
    "\n",
    "(X_train, y_train), (X_test, y_test) = mnist.load_data()\n",
    "\n",
    "#参数\n",
    "#学习率\n",
    "learning_rate = 0.001 \n",
    "#迭代次数\n",
    "epochs = 10\n",
    "#每块训练样本数\n",
    "batch_size = 128\n",
    "#输入\n",
    "n_input = 28\n",
    "#步长\n",
    "n_step = 28\n",
    "#LSTM Cell\n",
    "n_hidden = 128\n",
    "#类别\n",
    "n_classes = 10\n",
    "\n",
    "#x标准化到0-1  y使用one-hot  输入 nxm的矩阵 每行m维切成n个输入\n",
    "X_train = X_train.reshape(-1, n_step, n_input)/255.\n",
    "X_test = X_test.reshape(-1, n_step, n_input)/255.\n",
    "\n",
    "y_train = np_utils.to_categorical(y_train, num_classes=10)\n",
    "y_test = np_utils.to_categorical(y_test, num_classes=10)\n",
    "\n",
    "model = Sequential()\n",
    "model.add(LSTM(n_hidden,\n",
    "               batch_input_shape=(None, n_step, n_input),\n",
    "               unroll=True))\n",
    "\n",
    "model.add(Dense(n_classes))\n",
    "model.add(Activation('softmax'))\n",
    "\n",
    "adam = Adam(lr=learning_rate)\n",
    "#显示模型细节\n",
    "model.summary()\n",
    "model.compile(optimizer=adam,\n",
    "              loss='categorical_crossentropy',\n",
    "              metrics=['accuracy'])\n",
    "\n",
    "model.fit(X_train, y_train,\n",
    "          batch_size=batch_size,\n",
    "          epochs=epochs,\n",
    "          verbose=1, #0不显示 1显示\n",
    "          validation_data=(X_test, y_test))\n",
    "\n",
    "scores = model.evaluate(X_test, y_test, verbose=0)\n",
    "print('LSTM test score:', scores[0]) #loss\n",
    "print('LSTM test accuracy:', scores[1])"
   ]
  }
 ],
 "metadata": {
  "kernelspec": {
   "display_name": "Python 3",
   "language": "python",
   "name": "python3"
  },
  "language_info": {
   "codemirror_mode": {
    "name": "ipython",
    "version": 3
   },
   "file_extension": ".py",
   "mimetype": "text/x-python",
   "name": "python",
   "nbconvert_exporter": "python",
   "pygments_lexer": "ipython3",
   "version": "3.5.2"
  }
 },
 "nbformat": 4,
 "nbformat_minor": 2
}
